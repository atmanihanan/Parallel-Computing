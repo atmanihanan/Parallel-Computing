{
 "cells": [
  {
   "cell_type": "code",
   "execution_count": 1,
   "metadata": {},
   "outputs": [
    {
     "name": "stdout",
     "output_type": "stream",
     "text": [
      "Requirement already satisfied: matplotlib in /home/asus/anaconda3/envs/mpi_env/lib/python3.11/site-packages (3.8.3)\n",
      "Requirement already satisfied: contourpy>=1.0.1 in /home/asus/anaconda3/envs/mpi_env/lib/python3.11/site-packages (from matplotlib) (1.2.0)\n",
      "Requirement already satisfied: cycler>=0.10 in /home/asus/anaconda3/envs/mpi_env/lib/python3.11/site-packages (from matplotlib) (0.12.1)\n",
      "Requirement already satisfied: fonttools>=4.22.0 in /home/asus/anaconda3/envs/mpi_env/lib/python3.11/site-packages (from matplotlib) (4.49.0)\n",
      "Requirement already satisfied: kiwisolver>=1.3.1 in /home/asus/anaconda3/envs/mpi_env/lib/python3.11/site-packages (from matplotlib) (1.4.5)\n",
      "Requirement already satisfied: numpy<2,>=1.21 in /home/asus/anaconda3/envs/mpi_env/lib/python3.11/site-packages (from matplotlib) (1.26.4)\n",
      "Requirement already satisfied: packaging>=20.0 in /home/asus/anaconda3/envs/mpi_env/lib/python3.11/site-packages (from matplotlib) (23.1)\n",
      "Requirement already satisfied: pillow>=8 in /home/asus/anaconda3/envs/mpi_env/lib/python3.11/site-packages (from matplotlib) (10.2.0)\n",
      "Requirement already satisfied: pyparsing>=2.3.1 in /home/asus/anaconda3/envs/mpi_env/lib/python3.11/site-packages (from matplotlib) (3.1.1)\n",
      "Requirement already satisfied: python-dateutil>=2.7 in /home/asus/anaconda3/envs/mpi_env/lib/python3.11/site-packages (from matplotlib) (2.8.2)\n",
      "Requirement already satisfied: six>=1.5 in /home/asus/anaconda3/envs/mpi_env/lib/python3.11/site-packages (from python-dateutil>=2.7->matplotlib) (1.16.0)\n"
     ]
    }
   ],
   "source": [
    "!pip install matplotlib\n",
    "import matplotlib.pyplot as plt"
   ]
  },
  {
   "cell_type": "markdown",
   "metadata": {},
   "source": [
    "## Exercise 1: Hello world"
   ]
  },
  {
   "cell_type": "markdown",
   "metadata": {},
   "source": [
    "#### 1.Write an MPI program which prints the message \"Hello World\""
   ]
  },
  {
   "cell_type": "code",
   "execution_count": 2,
   "metadata": {},
   "outputs": [
    {
     "name": "stdout",
     "output_type": "stream",
     "text": [
      "Overwriting exercice11.py\n"
     ]
    }
   ],
   "source": [
    "%%file exercice11.py\n",
    "from mpi4py import MPI\n",
    "COMM = MPI.COMM_WORLD\n",
    "SIZE = COMM.Get_size ()\n",
    "RANK = COMM.Get_rank()\n",
    "print(\" Hello World\") "
   ]
  },
  {
   "cell_type": "code",
   "execution_count": 3,
   "metadata": {},
   "outputs": [
    {
     "name": "stdout",
     "output_type": "stream",
     "text": [
      " Hello World\n",
      " Hello World\n",
      " Hello World\n",
      " Hello World\n"
     ]
    }
   ],
   "source": [
    "!mpirun -n 4 python3 exercice11.py"
   ]
  },
  {
   "cell_type": "markdown",
   "metadata": {},
   "source": [
    "##### 2.Modify your program so that each process prints out both its rank and the total number of processes P that the code is running on, i.e. the size of MPI_COMM_WORLD."
   ]
  },
  {
   "cell_type": "code",
   "execution_count": 4,
   "metadata": {},
   "outputs": [
    {
     "name": "stdout",
     "output_type": "stream",
     "text": [
      "Overwriting exercice12.py\n"
     ]
    }
   ],
   "source": [
    "%%file exercice12.py\n",
    "from mpi4py import MPI\n",
    "COMM = MPI.COMM_WORLD\n",
    "SIZE = COMM.Get_size()\n",
    "RANK = COMM.Get_rank()\n",
    "print(f\"  I\\' am  process {RANK} among {SIZE} processes\")"
   ]
  },
  {
   "cell_type": "code",
   "execution_count": 5,
   "metadata": {},
   "outputs": [
    {
     "name": "stdout",
     "output_type": "stream",
     "text": [
      "  I' am  process 2 among 4 processes\n",
      "  I' am  process 0 among 4 processes\n",
      "  I' am  process 3 among 4 processes\n",
      "  I' am  process 1 among 4 processes\n"
     ]
    }
   ],
   "source": [
    "!mpirun -n 4 python3 exercice12.py"
   ]
  },
  {
   "cell_type": "markdown",
   "metadata": {},
   "source": [
    "#### 3.Modify your program so that only a single controller process (e.g. rank 0) prints out a message (very useful when you run with hundreds of processes)."
   ]
  },
  {
   "cell_type": "code",
   "execution_count": 6,
   "metadata": {},
   "outputs": [
    {
     "name": "stdout",
     "output_type": "stream",
     "text": [
      "Overwriting exercice13.py\n"
     ]
    }
   ],
   "source": [
    "%%file exercice13.py\n",
    "from mpi4py import MPI\n",
    "COMM = MPI.COMM_WORLD\n",
    "SIZE = COMM.Get_size()\n",
    "RANK = COMM.Get_rank()\n",
    "if RANK == 0:\n",
    "    print(f\"  I\\' am  process {RANK} among {SIZE} processes\")"
   ]
  },
  {
   "cell_type": "code",
   "execution_count": 7,
   "metadata": {},
   "outputs": [
    {
     "name": "stdout",
     "output_type": "stream",
     "text": [
      "  I' am  process 0 among 4 processes\n"
     ]
    }
   ],
   "source": [
    "!mpirun -n 4 python3 exercice13.py"
   ]
  },
  {
   "cell_type": "markdown",
   "metadata": {},
   "source": [
    "## Exercise 2:"
   ]
  },
  {
   "cell_type": "code",
   "execution_count": 8,
   "metadata": {},
   "outputs": [
    {
     "name": "stdout",
     "output_type": "stream",
     "text": [
      "Overwriting exercice2.py\n"
     ]
    }
   ],
   "source": [
    "%%file exercice2.py\n",
    "from mpi4py import MPI\n",
    "\n",
    "COMM = MPI.COMM_WORLD\n",
    "SIZE = COMM.Get_size()\n",
    "RANK = COMM.Get_rank()\n",
    "\n",
    "while True:\n",
    "    if RANK == 0:%%file exercice2.py\n",
    "from mpi4py import MPI\n",
    "\n",
    "COMM = MPI.COMM_WORLD\n",
    "SIZE = COMM.Get_size()\n",
    "RANK = COMM.Get_rank()\n",
    "        number = int(input('Enter a number (negative integer to stop): '))\n",
    "        if number < 0:\n",
    "            for i in range(1, SIZE):\n",
    "                COMM.send(number, dest=i, tag=1)\n",
    "            break\n",
    "        for i in range(1, SIZE):\n",
    "            COMM.send(number, dest=i, tag=1)\n",
    "    else: \n",
    "        number = COMM.recv(source=0, tag=1)\n",
    "        if number < 0:\n",
    "            break\n",
    "        print(f'Process {RANK} got {number}')\n",
    "print(f'Process {RANK} stopped')"
   ]
  },
  {
   "cell_type": "code",
   "execution_count": 9,
   "metadata": {},
   "outputs": [
    {
     "name": "stdout",
     "output_type": "stream",
     "text": [
      "Overwriting exercice2.py\n"
     ]
    }
   ],
   "source": [
    "%%file exercice2.py\n",
    "from mpi4py import MPI\n",
    "\n",
    "COMM = MPI.COMM_WORLD\n",
    "SIZE = COMM.Get_size()\n",
    "RANK = COMM.Get_rank()\n",
    "Valeurs =[]\n",
    "if RANK == 0:\n",
    "    while   True:\n",
    "        numbre = int(input(\"entrer un nombre entier postive :\"))\n",
    "        if numbre <0:\n",
    "            break\n",
    "else :\n",
    "    numbre = None    \n",
    "recvbuf = COMM . bcast ( numbre , root=0 )\n",
    "#Valeurs.append(recvbuf)\n",
    "print (\"Je suis le process\",{RANK} ,\" J'ai réssu la valeur \",{recvbuf})\n",
    "\n",
    "    "
   ]
  },
  {
   "cell_type": "code",
   "execution_count": 11,
   "metadata": {},
   "outputs": [
    {
     "name": "stdout",
     "output_type": "stream",
     "text": [
      "entrer un nombre entier postive :^C\n"
     ]
    }
   ],
   "source": [
    "!mpirun -n 4 python3 exercice2.py"
   ]
  },
  {
   "cell_type": "markdown",
   "metadata": {},
   "source": [
    "## Exercise 3: Ping-Pong"
   ]
  },
  {
   "cell_type": "code",
   "execution_count": 12,
   "metadata": {},
   "outputs": [
    {
     "name": "stdout",
     "output_type": "stream",
     "text": [
      "Overwriting exercice3.py\n"
     ]
    }
   ],
   "source": [
    "%%file exercice3.py\n",
    "from mpi4py import MPI\n",
    "import random\n",
    "\n",
    "COMM = MPI.COMM_WORLD\n",
    "SIZE = COMM.Get_size()\n",
    "RANK = COMM.Get_rank()\n",
    "it_max = 5\n",
    "\n",
    "if SIZE != 2:\n",
    "    print('This program only works with 2 processes')\n",
    "    exit()\n",
    "\n",
    "if RANK == 0:\n",
    "    #x =  int(input(\"entrer un nombre entier postive :\")) \n",
    "    x= 0\n",
    "    COMM . send ( x , dest=1 )\n",
    "    #print(f\"Iteration 1 : Process {RANK} sending {x} to Process 1\")\n",
    "    \n",
    "for i in range(it_max):\n",
    "    if RANK == 1:\n",
    "        x = COMM.recv ( source=0 )\n",
    "        print(f\"Iteration {i+1}: Process {RANK} received {x} from Process 0\")\n",
    "        x +=1\n",
    "        COMM . send ( x , dest= 0)\n",
    "        #print(f\"Iteration {i+1}: Process {RANK} sending {x} to Process 0\")\n",
    "\n",
    "    if RANK==0:\n",
    "        x = COMM.recv(source=1)\n",
    "        print(f\"Iteration {i+1}: Process {RANK} received {x} from Process 1\")\n",
    "        x +=1\n",
    "        COMM . send ( x , dest=1 )\n",
    "        #print(f\"Iteration {i+1}: Process {RANK} sending {x} to Process 1\")\n",
    "   \n"
   ]
  },
  {
   "cell_type": "code",
   "execution_count": 13,
   "metadata": {},
   "outputs": [
    {
     "name": "stdout",
     "output_type": "stream",
     "text": [
      "Iteration 1: Process 1 received 0 from Process 0\n",
      "Iteration 1: Process 0 received 1 from Process 1\n",
      "Iteration 2: Process 0 received 3 from Process 1\n",
      "Iteration 3: Process 0 received 5 from Process 1\n",
      "Iteration 4: Process 0 received 7 from Process 1\n",
      "Iteration 5: Process 0 received 9 from Process 1\n",
      "Iteration 2: Process 1 received 2 from Process 0\n",
      "Iteration 3: Process 1 received 4 from Process 0\n",
      "Iteration 4: Process 1 received 6 from Process 0\n",
      "Iteration 5: Process 1 received 8 from Process 0\n"
     ]
    }
   ],
   "source": [
    "\n",
    "!mpirun -n 2 python3 exercice3.py"
   ]
  },
  {
   "cell_type": "markdown",
   "metadata": {},
   "source": [
    "## Exercise 4: Sending in a ring (Broadcast by ring)"
   ]
  },
  {
   "cell_type": "code",
   "execution_count": 14,
   "metadata": {},
   "outputs": [
    {
     "name": "stdout",
     "output_type": "stream",
     "text": [
      "Overwriting exercice4.py\n"
     ]
    }
   ],
   "source": [
    "%%file exercice4.py\n",
    "from mpi4py import MPI\n",
    "import random\n",
    "\n",
    "COMM= MPI.COMM_WORLD\n",
    "SIZE = COMM.Get_size()\n",
    "RANK = COMM.Get_rank()\n",
    "if RANK==0:\n",
    "    data = 10\n",
    "    COMM.send(data, dest=1)  \n",
    "    \n",
    "if 0 <  RANK <SIZE:\n",
    "    data= COMM.recv(source = RANK -1)\n",
    "    print(f\" Process {RANK} received {data} from Process {RANK-1}\")\n",
    "    data +=RANK\n",
    "    if RANK!= SIZE -1:\n",
    "        COMM.send(data,  dest= RANK+1)   \n",
    "\n",
    "    "
   ]
  },
  {
   "cell_type": "code",
   "execution_count": 15,
   "metadata": {},
   "outputs": [
    {
     "name": "stdout",
     "output_type": "stream",
     "text": [
      " Process 1 received 10 from Process 0\n",
      " Process 2 received 11 from Process 1\n",
      " Process 3 received 13 from Process 2\n"
     ]
    }
   ],
   "source": [
    "!mpirun -n 4 python3 exercice4.py"
   ]
  },
  {
   "cell_type": "markdown",
   "metadata": {},
   "source": [
    "## Exercise 5: Solving 1D advection equation"
   ]
  },
  {
   "cell_type": "code",
   "execution_count": 16,
   "metadata": {},
   "outputs": [
    {
     "name": "stdout",
     "output_type": "stream",
     "text": [
      "Overwriting exercice5.1.py\n"
     ]
    }
   ],
   "source": [
    "%%file exercice5.1.py\n",
    "from mpi4py import MPI\n",
    "import numpy as np\n",
    "import matplotlib.pyplot as plt\n",
    "import time\n",
    "\n",
    "def solve_1d_linearconv(u, un, nt, nx, dt, dx, c, comm):\n",
    "    for n in range(nt):\n",
    "        un[:] = u[:]\n",
    "        for i in range(1, nx):\n",
    "            u[i] = un[i] - c * dt / dx * (un[i] - un[i-1])\n",
    "        if comm.Get_rank() != 0:\n",
    "            comm.send(u[1], dest=comm.Get_rank() - 1)\n",
    "            u[0] = comm.recv(source=comm.Get_rank() - 1)\n",
    "        if comm.Get_rank() != comm.Get_size() - 1:\n",
    "            comm.send(u[-2], dest=comm.Get_rank() + 1)\n",
    "            u[-1] = comm.recv(source=comm.Get_rank() + 1)\n",
    "    return u\n",
    "\n",
    "if __name__ == \"__main__\":\n",
    "    start_time = time.time()\n",
    "    comm = MPI.COMM_WORLD\n",
    "    rank = comm.Get_rank()\n",
    "    size = comm.Get_size()\n",
    "    nx = 200\n",
    "    nt = 100 \n",
    "    c = 2\n",
    "    dx = 2 * np.pi / (nx - 1)\n",
    "    CFL = 0.8\n",
    "    dt = CFL * dx / c\n",
    "    x = np.linspace(0, 2 * np.pi, nx)\n",
    "\n",
    "    local_nx = nx // size\n",
    "    remainder = nx % size\n",
    "    if rank < remainder:\n",
    "        local_nx += 1\n",
    "\n",
    "    start_idx = rank * local_nx + min(rank, remainder)\n",
    "    end_idx = start_idx + local_nx\n",
    "    if rank < remainder:\n",
    "        end_idx += 1\n",
    "\n",
    "    u = np.zeros(local_nx)\n",
    "    u[:] = np.where((x[start_idx:end_idx] >= 3) & (x[start_idx:end_idx] <= 4), 1, 0)\n",
    "    un = np.zeros(local_nx)\n",
    "    print(f'Process {rank}: u = {u}')\n",
    "\n",
    "    u = solve_1d_linearconv(u, un, nt, local_nx, dt, dx, c, comm)\n",
    "\n",
    "    # Gather results on root process\n",
    "    if rank == 0:\n",
    "        all_results = np.empty(nx)\n",
    "        all_results[start_idx:end_idx] = u\n",
    "        for i in range(1, size):\n",
    "            start_idx_i = i * local_nx + min(i, remainder)\n",
    "            end_idx_i = start_idx_i + local_nx\n",
    "            if i < remainder:\n",
    "                end_idx_i += 1\n",
    "            u_i = np.empty(local_nx)\n",
    "            comm.Recv(u_i, source=i)\n",
    "            all_results[start_idx_i:end_idx_i] = u_i\n",
    "        end_time = time.time()\n",
    "        print(f\"Process {rank}: {all_results}\")\n",
    "        print(\"Time taken:\", end_time - start_time, \"seconds\")\n",
    "        plt.plot(x, all_results)\n",
    "        plt.show()\n",
    "        plt.savefig(\"plot.png\")\n",
    "    else:\n",
    "        comm.Send(u, dest=0)\n",
    "\n",
    "\n"
   ]
  },
  {
   "cell_type": "code",
   "execution_count": 17,
   "metadata": {},
   "outputs": [
    {
     "name": "stdout",
     "output_type": "stream",
     "text": [
      "Process 2: u = [1. 1. 1. 1. 1. 1. 1. 1. 1. 1. 1. 1. 1. 1. 1. 1. 1. 1. 1. 1. 1. 1. 1. 1.\n",
      " 1. 1. 1. 0. 0. 0. 0. 0. 0. 0. 0. 0. 0. 0. 0. 0. 0. 0. 0. 0. 0. 0. 0. 0.\n",
      " 0. 0.]\n",
      "Process 0: u = [0. 0. 0. 0. 0. 0. 0. 0. 0. 0. 0. 0. 0. 0. 0. 0. 0. 0. 0. 0. 0. 0. 0. 0.\n",
      " 0. 0. 0. 0. 0. 0. 0. 0. 0. 0. 0. 0. 0. 0. 0. 0. 0. 0. 0. 0. 0. 0. 0. 0.\n",
      " 0. 0.]\n",
      "Process 1: u = [0. 0. 0. 0. 0. 0. 0. 0. 0. 0. 0. 0. 0. 0. 0. 0. 0. 0. 0. 0. 0. 0. 0. 0.\n",
      " 0. 0. 0. 0. 0. 0. 0. 0. 0. 0. 0. 0. 0. 0. 0. 0. 0. 0. 0. 0. 0. 0. 1. 1.\n",
      " 1. 1.]\n",
      "Process 3: u = [0. 0. 0. 0. 0. 0. 0. 0. 0. 0. 0. 0. 0. 0. 0. 0. 0. 0. 0. 0. 0. 0. 0. 0.\n",
      " 0. 0. 0. 0. 0. 0. 0. 0. 0. 0. 0. 0. 0. 0. 0. 0. 0. 0. 0. 0. 0. 0. 0. 0.\n",
      " 0. 0.]\n",
      "Process 0: [0.00000000e+00 0.00000000e+00 0.00000000e+00 0.00000000e+00\n",
      " 0.00000000e+00 0.00000000e+00 0.00000000e+00 0.00000000e+00\n",
      " 0.00000000e+00 0.00000000e+00 0.00000000e+00 0.00000000e+00\n",
      " 0.00000000e+00 0.00000000e+00 0.00000000e+00 0.00000000e+00\n",
      " 0.00000000e+00 0.00000000e+00 0.00000000e+00 0.00000000e+00\n",
      " 0.00000000e+00 0.00000000e+00 0.00000000e+00 0.00000000e+00\n",
      " 0.00000000e+00 0.00000000e+00 0.00000000e+00 0.00000000e+00\n",
      " 0.00000000e+00 0.00000000e+00 0.00000000e+00 0.00000000e+00\n",
      " 0.00000000e+00 0.00000000e+00 0.00000000e+00 0.00000000e+00\n",
      " 0.00000000e+00 0.00000000e+00 0.00000000e+00 0.00000000e+00\n",
      " 0.00000000e+00 0.00000000e+00 0.00000000e+00 0.00000000e+00\n",
      " 0.00000000e+00 0.00000000e+00 0.00000000e+00 0.00000000e+00\n",
      " 0.00000000e+00 0.00000000e+00 0.00000000e+00 0.00000000e+00\n",
      " 0.00000000e+00 0.00000000e+00 0.00000000e+00 0.00000000e+00\n",
      " 0.00000000e+00 0.00000000e+00 0.00000000e+00 0.00000000e+00\n",
      " 0.00000000e+00 0.00000000e+00 0.00000000e+00 0.00000000e+00\n",
      " 0.00000000e+00 0.00000000e+00 0.00000000e+00 0.00000000e+00\n",
      " 0.00000000e+00 0.00000000e+00 0.00000000e+00 0.00000000e+00\n",
      " 0.00000000e+00 0.00000000e+00 0.00000000e+00 0.00000000e+00\n",
      " 0.00000000e+00 0.00000000e+00 0.00000000e+00 0.00000000e+00\n",
      " 0.00000000e+00 0.00000000e+00 0.00000000e+00 0.00000000e+00\n",
      " 0.00000000e+00 0.00000000e+00 0.00000000e+00 0.00000000e+00\n",
      " 0.00000000e+00 0.00000000e+00 0.00000000e+00 0.00000000e+00\n",
      " 0.00000000e+00 0.00000000e+00 0.00000000e+00 0.00000000e+00\n",
      " 1.26765060e-70 5.08327891e-68 1.00906255e-65 1.32195688e-63\n",
      " 1.00906255e-65 1.32195688e-63 1.28572983e-61 9.90145182e-60\n",
      " 6.28850445e-58 3.38752535e-56 1.57983300e-54 6.47923274e-53\n",
      " 2.36572712e-51 7.76690477e-50 2.31166756e-48 6.28014734e-47\n",
      " 1.56640522e-45 3.60490511e-44 7.68805276e-43 1.52515165e-41\n",
      " 2.82377080e-40 4.89380786e-39 7.95989864e-38 1.21796361e-36\n",
      " 1.75690192e-35 2.39374642e-34 3.08588014e-33 3.76993870e-32\n",
      " 4.37086004e-31 4.81554670e-30 5.04766368e-29 5.03938497e-28\n",
      " 4.79671077e-27 4.35701378e-26 3.77990946e-25 3.13442912e-24\n",
      " 2.48616477e-23 1.88746953e-22 1.37236305e-21 9.56170685e-21\n",
      " 6.38699868e-20 4.09214946e-19 2.51581920e-18 1.48471612e-17\n",
      " 8.41375589e-17 4.57983426e-16 2.39518474e-15 1.20381424e-14\n",
      " 5.81566354e-14 2.70105454e-13 1.20621274e-12 5.17989264e-12\n",
      " 2.13925066e-11 8.49713850e-11 2.13925066e-11 8.49713850e-11\n",
      " 3.24614850e-10 1.19275721e-09 4.21517877e-09 1.43265527e-08\n",
      " 4.68273975e-08 1.47180883e-07 4.44780875e-07 1.29218424e-06\n",
      " 3.60842011e-06 9.68379289e-06 2.49702147e-05 6.18517404e-05\n",
      " 1.47140269e-04 3.36087162e-04 7.36883602e-04 1.55044055e-03\n",
      " 3.12969817e-03 6.05933548e-03 1.12489787e-02 2.00202067e-02\n",
      " 3.41516296e-02 5.58327168e-02 8.74753846e-02 1.31353217e-01\n",
      " 1.89087208e-01 2.61067248e-01 3.45966782e-01 4.40538415e-01\n",
      " 5.39838630e-01 6.37912916e-01 7.28811034e-01 8.07662411e-01\n",
      " 8.71494471e-01 9.19556232e-01 9.53087616e-01 9.74670802e-01\n",
      " 9.87423831e-01 9.94300011e-01 9.97656755e-01 9.99119631e-01\n",
      " 9.99661161e-01 9.99774896e-01 9.99645233e-01 9.99259413e-01\n",
      " 9.98448976e-01 9.96870234e-01 9.93940659e-01 9.88751021e-01]\n",
      "Time taken: 0.14159536361694336 seconds\n",
      "Figure(640x480)\n"
     ]
    }
   ],
   "source": [
    "!mpirun -n 4 python3 exercice5.1.py"
   ]
  }
 ],
 "metadata": {
  "kernelspec": {
   "display_name": "Python 3 (ipykernel)",
   "language": "python",
   "name": "python3"
  },
  "language_info": {
   "codemirror_mode": {
    "name": "ipython",
    "version": 3
   },
   "file_extension": ".py",
   "mimetype": "text/x-python",
   "name": "python",
   "nbconvert_exporter": "python",
   "pygments_lexer": "ipython3",
   "version": "3.11.7"
  }
 },
 "nbformat": 4,
 "nbformat_minor": 2
}
