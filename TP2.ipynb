{
 "cells": [
  {
   "cell_type": "code",
   "execution_count": 1,
   "metadata": {},
   "outputs": [
    {
     "name": "stdout",
     "output_type": "stream",
     "text": [
      "Requirement already satisfied: matplotlib in /home/asus/anaconda3/envs/mpi_env/lib/python3.11/site-packages (3.8.3)\n",
      "Requirement already satisfied: contourpy>=1.0.1 in /home/asus/anaconda3/envs/mpi_env/lib/python3.11/site-packages (from matplotlib) (1.2.0)\n",
      "Requirement already satisfied: cycler>=0.10 in /home/asus/anaconda3/envs/mpi_env/lib/python3.11/site-packages (from matplotlib) (0.12.1)\n",
      "Requirement already satisfied: fonttools>=4.22.0 in /home/asus/anaconda3/envs/mpi_env/lib/python3.11/site-packages (from matplotlib) (4.49.0)\n",
      "Requirement already satisfied: kiwisolver>=1.3.1 in /home/asus/anaconda3/envs/mpi_env/lib/python3.11/site-packages (from matplotlib) (1.4.5)\n",
      "Requirement already satisfied: numpy<2,>=1.21 in /home/asus/anaconda3/envs/mpi_env/lib/python3.11/site-packages (from matplotlib) (1.26.4)\n",
      "Requirement already satisfied: packaging>=20.0 in /home/asus/anaconda3/envs/mpi_env/lib/python3.11/site-packages (from matplotlib) (23.1)\n",
      "Requirement already satisfied: pillow>=8 in /home/asus/anaconda3/envs/mpi_env/lib/python3.11/site-packages (from matplotlib) (10.2.0)\n",
      "Requirement already satisfied: pyparsing>=2.3.1 in /home/asus/anaconda3/envs/mpi_env/lib/python3.11/site-packages (from matplotlib) (3.1.1)\n",
      "Requirement already satisfied: python-dateutil>=2.7 in /home/asus/anaconda3/envs/mpi_env/lib/python3.11/site-packages (from matplotlib) (2.8.2)\n",
      "Requirement already satisfied: six>=1.5 in /home/asus/anaconda3/envs/mpi_env/lib/python3.11/site-packages (from python-dateutil>=2.7->matplotlib) (1.16.0)\n"
     ]
    }
   ],
   "source": [
    "!pip install matplotlib\n",
    "import matplotlib.pyplot as plt"
   ]
  },
  {
   "cell_type": "markdown",
   "metadata": {},
   "source": [
    "### Exercise 1: Parallel Monte Carlo for PI\n",
    "Implement a parallel version of Monte Carlo using the function above:\n",
    "Ensure your program works correctly if N is not an exact multiple of the number of processes "
   ]
  },
  {
   "cell_type": "code",
   "execution_count": 2,
   "metadata": {},
   "outputs": [
    {
     "name": "stderr",
     "output_type": "stream",
     "text": [
      "UsageError: Line magic function `%%file` not found.\n"
     ]
    }
   ],
   "source": [
    "#exercice 1\n",
    "%%file exercice1.py\n",
    "\n",
    "import random\n",
    "from mpi4py import MPI\n",
    "\n",
    "def compute_points(INTERVAL):\n",
    "    circle_points = 0\n",
    "    for _ in range(INTERVAL**2):\n",
    "        rand_x = random.uniform(-1, 1)\n",
    "        rand_y = random.uniform(-1, 1)\n",
    "        origin_dist = rand_x**2 + rand_y**2\n",
    "        if origin_dist <= 1:\n",
    "            circle_points += 1\n",
    "    return circle_points\n",
    "\n",
    "def monte_carlo_parallel(N):\n",
    "    COMM = MPI.COMM_WORLD\n",
    "    SIZE = COMM.Get_size ()\n",
    "    RANK = COMM.Get_rank()\n",
    "    sendbuf = None\n",
    "    if RANK == 0:\n",
    "        sendbuf= [N//SIZE for i in range(SIZE)  ]\n",
    "        sendbuf[SIZE-1] = sendbuf[SIZE-1]  + N%SIZE \n",
    "        summ = sum([i**2 for i in sendbuf])\n",
    "    recvbuf = COMM.scatter(sendbuf , root=0)\n",
    "\n",
    "    nem_point=compute_points(recvbuf)      \n",
    "    sum_reduce = COMM.reduce( nem_point , op=MPI.SUM , root = 0)\n",
    "    if RANK == 0:\n",
    "        pi= 4*sum_reduce/summ\n",
    "        return pi\n",
    "print(monte_carlo_parallel(10000))   "
   ]
  },
  {
   "cell_type": "code",
   "execution_count": 3,
   "metadata": {},
   "outputs": [
    {
     "name": "stdout",
     "output_type": "stream",
     "text": [
      "3.14187872\n",
      "None\n",
      "None\n",
      "None\n"
     ]
    }
   ],
   "source": [
    "!mpirun -n 4 python3 exercice1.py\n"
   ]
  },
  {
   "cell_type": "markdown",
   "metadata": {},
   "source": [
    "### Exercise 2 Parallel Stochastic Gradient Descent for Linear Regression\n",
    "\n",
    "Implement a parallel version of Stochastic Gradient Descent (SGD) for linear regression using MPI. The goal is to distribute the dataset across multiple MPI processes, perform local updates (gradient descent steps) on each process, and periodically synchronize the model parameters across all processes.\n",
    "Ensure your program works correctly if N is not an exact multiple of the number of processes P\n",
    "\n",
    "Dataset: Use a synthetic dataset for simplicity. You can generate a dataset with a single feature and a linear relationship with the target variable. For example, you can model the relationship y = 2x + noise, where noise is some Gaussian noise"
   ]
  },
  {
   "cell_type": "code",
   "execution_count": 4,
   "metadata": {},
   "outputs": [
    {
     "name": "stderr",
     "output_type": "stream",
     "text": [
      "UsageError: Line magic function `%%file` not found.\n"
     ]
    }
   ],
   "source": [
    "#exercice2\n",
    "%%file ass1_exo2.py\n",
    "\n",
    "import random\n",
    "from mpi4py import MPI\n",
    "import numpy as np\n",
    "COMM = MPI.COMM_WORLD\n",
    "SIZE = COMM.Get_size ()\n",
    "RANK = COMM.Get_rank()\n",
    "N = 1000\n",
    "x = [np.random.uniform(0,1) for i in range(N)]\n",
    "y = [2*x + np.random.normal(0, 1) for x in x]\n",
    "## fonction qui calcul le gradian d'une fonction J(w,b)\n",
    "def compute_gradiant(x,y,w,b):\n",
    "    N=len(x)\n",
    "    dJ_w = (2/N)*(sum([ (w*x[i] +b -y[i])*x[i] for i in range(N)]))\n",
    "    dJ_b = (2/N)*(sum([ w*x[i] +b -y[i] for i in range(N)]))\n",
    "    return dJ_w, dJ_b\n",
    "\n",
    "## calcule parallél\n",
    "### fonction return w et b optimal (gradiant a pas fixe)\n",
    "def  gradient_stochastique(w_0, b_0,x,y):\n",
    "    h = 0.01\n",
    "    eps = 0.0001\n",
    "    w = w_0\n",
    "    b = b_0\n",
    "    itr_max= 100\n",
    "    while np.linalg.norm(compute_gradiant(x,y,w_0,b_0))>eps:\n",
    "        w = w - h*compute_gradiant(x,y,w,b)[0]\n",
    "        b = b - h*compute_gradiant(x, y,w,b)[1]\n",
    "        if itr_max >= 100:\n",
    "            break\n",
    "    return w ,b \n",
    "##fonction return w et b optimal utilisant le calcul parallel \n",
    "def calcul_parallel(x, y, w, b) :\n",
    "    COMM = MPI.COMM_WORLD\n",
    "    SIZE = COMM.Get_size ()\n",
    "    RANK = COMM.Get_rank()\n",
    "    L = None\n",
    "    sendbuf_x= []\n",
    "    sendbuf_y= []\n",
    "    if RANK == 0:\n",
    "        #sendbuf_w= []\n",
    "        #sendbuf_b= []\n",
    "        L = [ N//SIZE for i in range(SIZE)  ]\n",
    "        L[SIZE-1] = L[SIZE-1]  + N%SIZE \n",
    "        for ind,i in enumerate(L):\n",
    "            s = sum(L[:ind])\n",
    "            print(s, s+i)\n",
    "            x_local = [x[j] for j in range(s, i+s, 1)]\n",
    "            y_local = [y[j] for j in range(s, i+s, 1)]\n",
    "\n",
    "            sendbuf_x.append(x_local)\n",
    "            sendbuf_y.append(y_local)\n",
    "            #sendbuf_w.append(w_local)\n",
    "            #sendbuf_b.append(b_local)    \n",
    "                \n",
    "    recvbuf_x = COMM.scatter(sendbuf_x , root=0)\n",
    "    recvbuf_y = COMM.scatter(sendbuf_y , root=0)\n",
    "    #recvbuf_w = COMM.scatter(sendbuf_w , root=0)\n",
    "    #recvbuf_b = COMM.scatter(sendbuf_b , root=0)\n",
    "\n",
    "    # iteration\n",
    "    h = 0.01\n",
    "    eps = 0.0001\n",
    "    w = 1\n",
    "    b = 0\n",
    "    itr_max= 1000\n",
    "    i=0\n",
    "    while True:\n",
    "        grad_local = compute_gradiant(recvbuf_x,recvbuf_y,w,b)\n",
    "        COMM.Barrier()\n",
    "        sum_reduce_dw = COMM.allreduce(grad_local[0], op=MPI.SUM)\n",
    "        sum_reduce_db = COMM.allreduce(grad_local[1], op=MPI.SUM)\n",
    "        w = w - h*sum_reduce_dw\n",
    "        b = b - h*sum_reduce_db\n",
    "        i += 1\n",
    "\n",
    "        if np.linalg.norm([sum_reduce_dw, sum_reduce_db])<eps or i >= itr_max:\n",
    "            break\n",
    "    \n",
    "    if RANK == 0:\n",
    "        print(f\"iter: {i}\")\n",
    "        return [w ,b]\n",
    "\n",
    "    \"\"\"\n",
    "    grad_local_w, grad_local_b = compute_gradiant(recvbuf_x,recvbuf_y,w,b)\n",
    "       \n",
    "      \n",
    "    sum_reduce_dw = COMM.allreduce( grad_local_w, op=MPI.SUM , root = 0)\n",
    "    sum_reduce_db = COMM.allreduce(  grad_local_b, op=MPI.SUM , root = 0)\n",
    "   \n",
    "    if RANK == 0:\n",
    "        return [sum_reduce_dw, sum_reduce_db]\"\"\"\n",
    "## appell la fonction calcul parallel\n",
    "RESULT = calcul_parallel(x, y, 1, 0)\n",
    "print(f\"[w_optimal,b_optimal]={RESULT}\") \n",
    "\n",
    "\"\"\"\n",
    "def  gradient_stochastique_parallel(x,y,w_0,b_0):\n",
    "    h = 0.01\n",
    "    eps = 0.0001\n",
    "    w = w_0\n",
    "    b = b_0\n",
    "    itr_max= 100\n",
    "    i=0\n",
    "    while True:\n",
    "        gradient = calcul_parallel(x,y,w,b)\n",
    "        print(\"gradient: \")\n",
    "        print(gradient)\n",
    "        w = w - h*gradient[0]\n",
    "        b = b - h*gradient[1]\n",
    "        i += 1\n",
    "        if np.linalg.norm(gradient)>eps or i >= itr_max:\n",
    "            break\n",
    "    return w ,b \n",
    "\n",
    "if RANK ==0:\n",
    "    resutat = gradient_stochastique_parallel(x,y, 1,0)\n",
    "    print(resutat)\n",
    "\"\"\""
   ]
  },
  {
   "cell_type": "code",
   "execution_count": 5,
   "metadata": {},
   "outputs": [
    {
     "name": "stdout",
     "output_type": "stream",
     "text": [
      "0 500\n",
      "500 1000\n",
      "[w_optimal,b_optimal]=None\n",
      "iter: 1000\n",
      "[w_optimal,b_optimal]=[2.1533359463129753, -0.057237026808242907]\n"
     ]
    }
   ],
   "source": [
    "!mpirun -n 2 python3 ass1_exo2.py"
   ]
  },
  {
   "cell_type": "code",
   "execution_count": 6,
   "metadata": {},
   "outputs": [
    {
     "name": "stdout",
     "output_type": "stream",
     "text": [
      "Requirement already satisfied: scipy in /home/asus/anaconda3/envs/mpi_env/lib/python3.11/site-packages (1.12.0)\n",
      "Requirement already satisfied: numpy<1.29.0,>=1.22.4 in /home/asus/anaconda3/envs/mpi_env/lib/python3.11/site-packages (from scipy) (1.26.4)\n",
      "Note: you may need to restart the kernel to use updated packages.\n"
     ]
    }
   ],
   "source": [
    "pip install scipy\n"
   ]
  },
  {
   "cell_type": "code",
   "execution_count": 7,
   "metadata": {},
   "outputs": [
    {
     "name": "stdout",
     "output_type": "stream",
     "text": [
      "Requirement already satisfied: numba in /home/asus/anaconda3/envs/mpi_env/lib/python3.11/site-packages (0.59.0)\n",
      "Requirement already satisfied: llvmlite<0.43,>=0.42.0dev0 in /home/asus/anaconda3/envs/mpi_env/lib/python3.11/site-packages (from numba) (0.42.0)\n",
      "Requirement already satisfied: numpy<1.27,>=1.22 in /home/asus/anaconda3/envs/mpi_env/lib/python3.11/site-packages (from numba) (1.26.4)\n",
      "Note: you may need to restart the kernel to use updated packages.\n"
     ]
    }
   ],
   "source": [
    "pip install numba\n"
   ]
  },
  {
   "cell_type": "markdown",
   "metadata": {},
   "source": [
    "### Exercise 3: Matrix vector product\n",
    "Exercise 3: Matrix vector product\n",
    "\n",
    "1. Use the code above to implement the MPI version of matrix-vector multiplication.\n",
    "2. Ensure your program works correctly if N is not an exact multiple of the number of processes P\n",
    "3. Process 0 compares the result with the dot product.\n",
    "\n",
    "4. Plot the scalability of your implementation"
   ]
  },
  {
   "cell_type": "code",
   "execution_count": 14,
   "metadata": {},
   "outputs": [
    {
     "name": "stderr",
     "output_type": "stream",
     "text": [
      "UsageError: Line magic function `%%file` not found.\n"
     ]
    }
   ],
   "source": [
    "#exer3\n",
    "%%file ass1_exo3.py\n",
    "#########This program compute parallel csc matrix vector multiplication using mpi########\n",
    "\n",
    "import numpy as np\n",
    "from scipy.sparse import lil_matrix\n",
    "from numpy.random import rand, seed\n",
    "from numba import njit\n",
    "from mpi4py import MPI\n",
    "\n",
    "COMM = MPI.COMM_WORLD\n",
    "nbOfproc = COMM.Get_size()\n",
    "RANK = COMM.Get_rank()\n",
    "\n",
    "seed(42)\n",
    "def matrixVectorMult(A, b, x):\n",
    "    \n",
    "    row, col = A.shape\n",
    "    for i in range(row):\n",
    "        a = A[i]\n",
    "        for j in range(col):\n",
    "            x[i] += a[j] * b[j]\n",
    "\n",
    "    return 0\n",
    "########################initialize matrix A and vector b ######################\n",
    "#matrix sizes\n",
    "SIZE = 1000\n",
    "\n",
    "if RANK == 0:\n",
    "    L = [ SIZE//nbOfproc for i in range(nbOfproc)  ]\n",
    "    L[nbOfproc-1] = L[nbOfproc-1]  + SIZE%nbOfproc \n",
    "    YY = [ np.zeros((i,SIZE ), dtype=np.float64) for i in L]\n",
    "    Local_size = [[i, SIZE] for i in L]\n",
    "\n",
    "    # counts = block of each proc\n",
    "    counts = [i*SIZE for i in L]\n",
    "    \n",
    "    ##initialize matrix A and vector b\n",
    "    # A = np.array([[1, 2, 3], [1, 2, 3], [1, 2, 3]], dtype=np.float64)\n",
    "    # b = np.array([1, 1, 1])\n",
    "    A = lil_matrix((SIZE, SIZE))\n",
    "    A[0, :100] = rand(100)\n",
    "    A[1, 100:200] = A[0, :100]\n",
    "    A.setdiag(rand(SIZE))\n",
    "    A = A.toarray()\n",
    "    b = rand(SIZE)\n",
    "else :\n",
    "    A = None\n",
    "    b = None\n",
    "    YY = None\n",
    "    counts = None\n",
    "#########Send b to all procs and scatter A (each proc has its own local matrix#####\n",
    "#LocalMatrix = \n",
    "matrice_local = COMM . scatter ( YY , root=0 )  \n",
    "# Scatter the matrix A\n",
    "b_local = COMM . bcast (b , root=0 ) \n",
    "COMM.Scatterv( [A , counts , MPI.DOUBLE],  recvbuf=matrice_local ,root =0)\n",
    "\n",
    "#####################Compute A*b locally#######################################\n",
    "LocalX=np.zeros(matrice_local.shape[0])\n",
    "start = MPI.Wtime()\n",
    "matrixVectorMult(matrice_local, b_local, LocalX)\n",
    "\n",
    "stop = MPI.Wtime()\n",
    "dt= (stop - start)*1000\n",
    "dt_max= COMM.allreduce(dt, op=MPI.MAX)\n",
    "if RANK == 0:\n",
    "    print(\"CPU time of parallel multiplication is \", dt_max)\n",
    "##################Gather te results ###########################################\n",
    "recvbuf = COMM . gather (LocalX , root=0 )  \n",
    "if RANK ==0:\n",
    "    X = np.concatenate(recvbuf, axis=0) \n",
    "else :\n",
    "    X=None \n",
    "##################Print the results ###########################################\n",
    "if RANK == 0 :\n",
    "    X_ = A.dot(b)\n",
    "    print(\"The result of A*b using dot is :\", np.max(X_ - X))\n",
    "    #print(\"The result of A*b using dot is :\", X_)\n",
    "    #print(\"The result of A*b using parallel version is :\", X)"
   ]
  },
  {
   "cell_type": "code",
   "execution_count": 15,
   "metadata": {},
   "outputs": [
    {
     "name": "stdout",
     "output_type": "stream",
     "text": [
      "CPU time of parallel multiplication is  131.521986\n",
      "The result of A*b using dot is : 1.4210854715202004e-14\n"
     ]
    }
   ],
   "source": [
    "!mpirun -n 2 python3 ass1_exo3.py"
   ]
  },
  {
   "cell_type": "markdown",
   "metadata": {},
   "source": [
    "##### Plot the scalability of your implementation."
   ]
  },
  {
   "cell_type": "code",
   "execution_count": 10,
   "metadata": {},
   "outputs": [
    {
     "data": {
      "image/png": "[encoded data removed]",
      "text/plain": [
       "<Figure size 640x480 with 1 Axes>"
      ]
     },
     "metadata": {},
     "output_type": "display_data"
    },
    {
     "data": {
      "image/png": "[encoded data removed]",
      "text/plain": [
       "<Figure size 640x480 with 1 Axes>"
      ]
     },
     "metadata": {},
     "output_type": "display_data"
    }
   ],
   "source": [
    "temp= [299.204396,169.349427,124.913028,101.51989999999999]\n",
    "sped_up=[temp[0]/i for i in temp]\n",
    "NP= [1,2,3,4]\n",
    "# Tracé le graph de temps en fonction de number de pross\n",
    "plt.plot(NP, temp, marker='o', linestyle='-')\n",
    "plt.xlabel('Nombre de processus')\n",
    "plt.ylabel('Temps')\n",
    "plt.title('Temps en fonction du nombre de processus')\n",
    "plt.grid(True)\n",
    "plt.show()\n",
    "# le graphe de sped_up en fonction de nombre de pross\n",
    "plt.plot(NP, NP, linestyle='-')\n",
    "plt.plot(NP, sped_up, marker='o', linestyle='-')\n",
    "plt.xlabel('Nombre de processus')\n",
    "plt.ylabel('sped_up')\n",
    "plt.title('Sped_up en fonction du nombre de processus')\n",
    "plt.grid(True)\n",
    "plt.show()\n"
   ]
  },
  {
   "cell_type": "code",
   "execution_count": 13,
   "metadata": {},
   "outputs": [
    {
     "name": "stdout",
     "output_type": "stream",
     "text": [
      "Overwriting exam2.py\n"
     ]
    }
   ],
   "source": [
    "%%file exam2.py\n",
    "\n",
    "from mpi4py import MPI\n",
    "import numpy as np\n",
    "\n",
    "COMM = MPI.COMM_WORLD\n",
    "SIZE = COMM.Get_size()\n",
    "RANK = COMM.Get_rank()\n",
    "\n",
    "if RANK == 0:\n",
    "    # initialiser la taille de la matrice\n",
    "    n = 8\n",
    "\n",
    "    # déclaration de la matrice\n",
    "    matrice = np.zeros((n, n))\n",
    "\n",
    "    # Initialiser la diagonale de la matrice de 1 à n\n",
    "    for i in range(n):\n",
    "        matrice[i, i] = i + 1\n",
    "\n",
    "    # Distribuer la matrice en p parties avec p étant le nombre de processus\n",
    "    L = [n // SIZE] * SIZE\n",
    "    for i in range(n % SIZE):\n",
    "        L[i] += 1\n",
    "\n",
    "    Local_size = [[i, i] for i in L]\n",
    "    \n",
    "    # Diviser la matrice en parties\n",
    "    data = np.split(matrice, np.cumsum(L)[:-1], axis=0)\n",
    "\n",
    "else:\n",
    "    data = None\n",
    "\n",
    "# Envoyer les parties de la matrice aux autres processus\n",
    "local_matrice = COMM.scatter(data, root=0)\n",
    "\n",
    "# Calculer la trace locale\n",
    "local_trace = np.trace(local_matrice)\n",
    "\n",
    "# Rassembler les résultats dans le processus 0\n",
    "all_traces = COMM.gather(local_trace, root=0)\n",
    "\n",
    "# récupération de la trace totale\n",
    "if RANK == 0:\n",
    "    total_trace = sum(all_traces)\n",
    "    print(\"la Trace de la matrice est :\", total_trace)\n"
   ]
  },
  {
   "cell_type": "code",
   "execution_count": 16,
   "metadata": {},
   "outputs": [
    {
     "name": "stdout",
     "output_type": "stream",
     "text": [
      "la Trace de la matrice est : 3.0\n"
     ]
    }
   ],
   "source": [
    "!mpirun -n 4 python3 exam2.py"
   ]
  },
  {
   "cell_type": "code",
   "execution_count": 31,
   "metadata": {},
   "outputs": [
    {
     "name": "stdout",
     "output_type": "stream",
     "text": [
      "Overwriting exam3.py\n"
     ]
    }
   ],
   "source": [
    "%%file exam3.py\n",
    "from mpi4py import MPI\n",
    "import numpy as np\n",
    "\n",
    "COMM = MPI.COMM_WORLD\n",
    "SIZE = COMM.Get_size()\n",
    "RANK = COMM.Get_rank()\n",
    "\n",
    "def distribute_data(matrice, size):\n",
    "    n = matrice.shape[0]\n",
    "    part_size = n // size\n",
    "    remainder = n % size\n",
    "\n",
    "    data = []\n",
    "    start_row = 0\n",
    "    for i in range(size):\n",
    "        end_row = start_row + part_size + (1 if i < remainder else 0)\n",
    "        data.append(matrice[start_row:end_row, :])\n",
    "        start_row = end_row\n",
    "\n",
    "    return data\n",
    "\n",
    "if RANK == 0:\n",
    "    # initialiser la taille de la matrice\n",
    "    n = 8\n",
    "\n",
    "    # déclaration de la matrice\n",
    "    matrice = np.zeros((n, n))\n",
    "\n",
    "    # Initialiser la diagonale de la matrice de 1 à n\n",
    "    for i in range(n):\n",
    "        matrice[i, i] = i + 1\n",
    "\n",
    "    # Distribuer la matrice en parties \n",
    "    data = distribute_data(matrice, SIZE)\n",
    "else:\n",
    "    data = None\n",
    "\n",
    "# Envoyer les parties de la matrice aux autres processus (les sous matrice)\n",
    "local_matrice = COMM.scatter(data, root=0)\n",
    "\n",
    "# Calculer la somme locale des éléments\n",
    "local_sum = np.sum(local_matrice)\n",
    "\n",
    "# Rassembler les résultats dans le processus 0\n",
    "all_sums = COMM.gather(local_sum, root=0)\n",
    "\n",
    "# Calculer la trace globale\n",
    "if RANK == 0:\n",
    "    global_sum = sum(all_sums)\n",
    "    print(\"La trace de la matrice est  :\", global_sum)\n",
    "\n",
    "\n"
   ]
  },
  {
   "cell_type": "code",
   "execution_count": 32,
   "metadata": {},
   "outputs": [
    {
     "name": "stdout",
     "output_type": "stream",
     "text": [
      "La trace de la matrice est  : 36.0\n"
     ]
    }
   ],
   "source": [
    "!mpirun -n 2 python3 exam3.py"
   ]
  }
 ],
 "metadata": {
  "kernelspec": {
   "display_name": "mpi_env",
   "language": "python",
   "name": "python3"
  },
  "language_info": {
   "codemirror_mode": {
    "name": "ipython",
    "version": 3
   },
   "file_extension": ".py",
   "mimetype": "text/x-python",
   "name": "python",
   "nbconvert_exporter": "python",
   "pygments_lexer": "ipython3",
   "version": "3.11.7"
  }
 },
 "nbformat": 4,
 "nbformat_minor": 2
}
