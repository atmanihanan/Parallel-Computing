{
 "cells": [
  {
   "cell_type": "code",
   "execution_count": 1,
   "metadata": {},
   "outputs": [
    {
     "name": "stdout",
     "output_type": "stream",
     "text": [
      "Requirement already satisfied: matplotlib in /home/asus/anaconda3/envs/mpi_env/lib/python3.11/site-packages (3.8.3)\n",
      "Requirement already satisfied: contourpy>=1.0.1 in /home/asus/anaconda3/envs/mpi_env/lib/python3.11/site-packages (from matplotlib) (1.2.0)\n",
      "Requirement already satisfied: cycler>=0.10 in /home/asus/anaconda3/envs/mpi_env/lib/python3.11/site-packages (from matplotlib) (0.12.1)\n",
      "Requirement already satisfied: fonttools>=4.22.0 in /home/asus/anaconda3/envs/mpi_env/lib/python3.11/site-packages (from matplotlib) (4.49.0)\n",
      "Requirement already satisfied: kiwisolver>=1.3.1 in /home/asus/anaconda3/envs/mpi_env/lib/python3.11/site-packages (from matplotlib) (1.4.5)\n",
      "Requirement already satisfied: numpy<2,>=1.21 in /home/asus/anaconda3/envs/mpi_env/lib/python3.11/site-packages (from matplotlib) (1.26.4)\n",
      "Requirement already satisfied: packaging>=20.0 in /home/asus/anaconda3/envs/mpi_env/lib/python3.11/site-packages (from matplotlib) (23.1)\n",
      "Requirement already satisfied: pillow>=8 in /home/asus/anaconda3/envs/mpi_env/lib/python3.11/site-packages (from matplotlib) (10.2.0)\n",
      "Requirement already satisfied: pyparsing>=2.3.1 in /home/asus/anaconda3/envs/mpi_env/lib/python3.11/site-packages (from matplotlib) (3.1.1)\n",
      "Requirement already satisfied: python-dateutil>=2.7 in /home/asus/anaconda3/envs/mpi_env/lib/python3.11/site-packages (from matplotlib) (2.8.2)\n",
      "Requirement already satisfied: six>=1.5 in /home/asus/anaconda3/envs/mpi_env/lib/python3.11/site-packages (from python-dateutil>=2.7->matplotlib) (1.16.0)\n"
     ]
    }
   ],
   "source": [
    "!pip install matplotlib\n",
    "import matplotlib.pyplot as plt"
   ]
  },
  {
   "cell_type": "markdown",
   "metadata": {},
   "source": [
    "#### Exercice 3"
   ]
  },
  {
   "cell_type": "code",
   "execution_count": 8,
   "metadata": {},
   "outputs": [
    {
     "name": "stdout",
     "output_type": "stream",
     "text": [
      "Overwriting exam3_hanan.py\n"
     ]
    }
   ],
   "source": [
    "%%file exam3_hanan.py\n",
    "from mpi4py import MPI\n",
    "import numpy as np\n",
    "\n",
    "COMM = MPI.COMM_WORLD\n",
    "SIZE = COMM.Get_size()\n",
    "RANK = COMM.Get_rank()\n",
    "\n",
    "def distribute_data(matrice, size):\n",
    "    n = matrice.shape[0]\n",
    "    part_size = n // size\n",
    "    reste = n % size\n",
    "\n",
    "    data = []\n",
    "    start_row = 0\n",
    "    for i in range(size):\n",
    "        end_row = start_row + part_size + (1 if i < reste else 0)\n",
    "        data.append(matrice[start_row:end_row, :])\n",
    "        start_row = end_row\n",
    "\n",
    "    return data\n",
    "\n",
    "if RANK == 0:\n",
    "    # initialiser la taille de la matrice\n",
    "    n = 8\n",
    "\n",
    "    # déclaration de la matrice\n",
    "    matrice = np.zeros((n, n))\n",
    "\n",
    "    # Initialiser la diagonale de la matrice de 1 à n\n",
    "    for i in range(n):\n",
    "        matrice[i, i] = i + 1\n",
    "\n",
    "    # Distribuer la matrice en parties \n",
    "    data = distribute_data(matrice, SIZE)\n",
    "else:\n",
    "    data = None\n",
    "\n",
    "# Envoyer les parties de la matrice aux autres processus (les sous matrice)\n",
    "local_matrice = COMM.scatter(data, root=0)\n",
    "\n",
    "# Calculer la somme locale des éléments\n",
    "local_sum = np.sum(local_matrice)\n",
    "\n",
    "# Rassembler les résultats dans le processus 0\n",
    "all_sums = COMM.gather(local_sum, root=0)\n",
    "\n",
    "# Calculer la trace globale\n",
    "if RANK == 0:\n",
    "    global_sum = sum(all_sums)\n",
    "    print(\"La trace de la matrice est  :\", global_sum)\n",
    "\n",
    "\n"
   ]
  },
  {
   "cell_type": "code",
   "execution_count": 9,
   "metadata": {},
   "outputs": [
    {
     "name": "stdout",
     "output_type": "stream",
     "text": [
      "La trace de la matrice est  : 36.0\n"
     ]
    }
   ],
   "source": [
    "!mpirun -n 4 python3 exam3_hanan.py"
   ]
  },
  {
   "cell_type": "code",
   "execution_count": 7,
   "metadata": {},
   "outputs": [
    {
     "name": "stdout",
     "output_type": "stream",
     "text": [
      "Overwriting exam3_hanan.py\n"
     ]
    }
   ],
   "source": [
    "'''\n",
    "from mpi4py import MPI\n",
    "import numpy as np\n",
    "\n",
    "COMM = MPI.COMM_WORLD\n",
    "SIZE = COMM.Get_size()\n",
    "RANK = COMM.Get_rank()\n",
    "def f(x): \n",
    "        return 0\n",
    "\n",
    "#long = 2\n",
    "#larg= 2\n",
    "nx = 101\n",
    "ny= 101\n",
    "#les pas de mayge\n",
    "dx =2/(Nx-1)\n",
    "dy = 2/(Ny-1)\n",
    "#conndition initialle \n",
    "x = np.zeros((nx, ny))\n",
    "y= np.zeros((nx, ny))\n",
    "u = np.zeros((nx, ny))\n",
    "for i in range(nx):\n",
    "    for j in range(ny):\n",
    "        x[i,j]= i*dx\n",
    "        y[i,j]= j*dy\n",
    "        u[i,j]= 0\n",
    "temps = 0\n",
    "a1 = 1\n",
    "a2 = 1\n",
    "D = 0.25\n",
    "tfinal = 51\n",
    "CFL =0.5\n",
    "dt1 = CFL*min(dx, dy)/max(abs(a1),abs(a2))\n",
    "dt2 = CFL*min(dx**2,dy**2)/(2*D)\n",
    "dt = min(dt1,dt2)\n",
    "lamda1= dt*a1/dx\n",
    "lamda2= dt*a2/dy\n",
    "beta1 = dt*D/dx**2\n",
    "beta2 = dt*D/dy**2\n",
    "unew = np.zeros((Nx,Ny))\n",
    "while(temps< tfinal):\n",
    "    for i in range(1,nx-1):\n",
    "        for j in range(1,ny-1):\n",
    "            unew[i,j]= u[i,j]-lamda1*(u[i,j]-u[i-1,j])\\\n",
    "                -lamda2*(u[i,j]-u[i,j-1])\\\n",
    "                +beta1*(u[i-1,j]-2*u[i,j]+u[i+1,j])\\\n",
    "                +beta2*(u[i,j-1]-2*u[i,j]+u[i,j+1])\n",
    "                \n",
    "    unew[:,0] = unew[:,1]\n",
    "    unew[:,ny-1] = unew[:,ny-2]\n",
    "    unew[nx-1,:]= unew[nx-2,:]\n",
    "    for j in range(ny):\n",
    "         if (40<= y[0,j]<=60):\n",
    "             unew[0,j]=1\n",
    "         else:\n",
    "            unew[0,j]=0\n",
    "    temps += dt   \n",
    "    u = unew.copy()\n",
    "    '''"
   ]
  },
  {
   "cell_type": "code",
   "execution_count": null,
   "metadata": {},
   "outputs": [],
   "source": [
    "import numpy as np \n",
    "from matplotlib import pyplot, cm\n",
    "from mpl_toolkits.mplot3d import Axes3D\n",
    "import time\n",
    "def solve_2d_diff(u,un,nt,dt,dx,dy,nu):\n",
    "    row, col =u.shape\n",
    "    ### Assign initial conditions\n",
    "    # set hat function I.C. : u(0.5<=x<=1 && 0.5<=y<=1) is 2\n",
    "    u[int(0.5/dy): int(1/ dy +1), int(0.5/dx):int(1/dx+1)]=2\n",
    "\n",
    "\n",
    "    #fill the update of u \n",
    "    return u\n",
    "nt= 51\n",
    "nx=101\n",
    "ny=101\n",
    "nu=0.05\n",
    "dx= 2/(nx-1)\n",
    "dy=2/(ny-1)\n",
    "sigma = 0.25\n",
    "dt= sigma*dx*dy/nu\n",
    "x = np.linspace(0,2,nx)\n",
    "y=np.linspace(0,2,ny)\n",
    "u = np.ones((ny,nx)) #create a 1xn vector of 1's\n",
    "un= np.ones(ny,nx)\n",
    "solve_2d_diff(u,un,dt,dx,dy,nu)\n",
    "fig = pyplot.figure(figsize=(7,5), dpi=100)\n",
    "ax= fig.gca(projection='3d')\n",
    "X,Y=np.meshgrid(x,y)\n",
    "surf = ax.plot_surface(X,Y,u,cmap=cm.viridis)\n"
   ]
  },
  {
   "cell_type": "code",
   "execution_count": 10,
   "metadata": {},
   "outputs": [
    {
     "name": "stdout",
     "output_type": "stream",
     "text": [
      "Writing exam4_hanan.py\n"
     ]
    }
   ],
   "source": [
    "%%file exam4_hanan.py\n",
    "import numpy as np \n",
    "from matplotlib import pyplot, cm\n",
    "from mpl_toolkits.mplot3d import Axes3D\n",
    "\n",
    "def solve_2d_diff(u, un, nt, dt, dx, dy, nu):\n",
    "    row, col = u.shape\n",
    "    # Assigner les conditions initiales\n",
    "    # Définir une fonction chapeau I.C. : u(0.5<=x<=1 && 0.5<=y<=1) vaut 2\n",
    "    u[int(0.5 / dy): int(1 / dy + 1), int(0.5 / dx):int(1 / dx + 1)] = 2\n",
    "\n",
    "    # Boucle temporelle\n",
    "    for n in range(nt + 1):\n",
    "        un = u.copy()\n",
    "        for i in range(1, row - 1):\n",
    "            for j in range(1, col - 1):\n",
    "                u[i, j] = un[i, j] + nu * dt / dx**2 * (un[i + 1, j] - 2 * un[i, j] + un[i - 1, j]) \\\n",
    "                                      + nu * dt / dy**2 * (un[i, j + 1] - 2 * un[i, j] + un[i, j - 1])\n",
    "\n",
    "        # Appliquer les conditions aux limites\n",
    "        u[:, 0] = 1  # Bord gauche\n",
    "        u[:, -1] = 1  # Bord droit\n",
    "        u[0, :] = 1  # Bord inférieur\n",
    "        u[-1, :] = 1  # Bord supérieur\n",
    "\n",
    "    return u\n",
    "\n",
    "# Paramètres du problème\n",
    "nt = 51\n",
    "nx = 101\n",
    "ny = 101\n",
    "nu = 0.05\n",
    "dx = 2 / (nx - 1)\n",
    "dy = 2 / (ny - 1)\n",
    "sigma = 0.25\n",
    "dt = sigma * dx * dy / nu\n",
    "\n",
    "x = np.linspace(0, 2, nx)\n",
    "y = np.linspace(0, 2, ny)\n",
    "u = np.ones((ny, nx))  # Créer une matrice de dimensions nx par ny remplie de 1\n",
    "un = np.ones((ny, nx))  # Matrice temporaire pour les anciennes valeurs de u\n",
    "\n",
    "# Résoudre l'équation de diffusion\n",
    "u = solve_2d_diff(u, un, nt, dt, dx, dy, nu)\n",
    "\n",
    "# Afficher la solution\n",
    "fig = pyplot.figure(figsize=(7, 5), dpi=100)\n",
    "ax = fig.gca(projection='3d')\n",
    "X, Y = np.meshgrid(x, y)\n",
    "surf = ax.plot_surface(X, Y, u, cmap=cm.viridis)\n",
    "pyplot.show()\n"
   ]
  },
  {
   "cell_type": "code",
   "execution_count": 11,
   "metadata": {},
   "outputs": [
    {
     "name": "stdout",
     "output_type": "stream",
     "text": [
      "Traceback (most recent call last):\n",
      "  File \"/home/asus/S2/calcul paralléle/exam4_hanan.py\", line 47, in <module>\n",
      "Traceback (most recent call last):\n",
      "  File \"/home/asus/S2/calcul paralléle/exam4_hanan.py\", line 47, in <module>\n",
      "    ax = fig.gca(projection='3d')\n",
      "    ax = fig.gca(projection='3d')\n",
      "         ^^^^^^^^^^^^         ^^^^^^^^^^^^^^^^^^^^^^^^^^^^^^^^\n",
      "^^^^\n",
      "TypeError: FigureBase.gca() got an unexpected keyword argument 'projection'\n",
      "TypeError: FigureBase.gca() got an unexpected keyword argument 'projection'\n",
      "Traceback (most recent call last):\n",
      "  File \"/home/asus/S2/calcul paralléle/exam4_hanan.py\", line 47, in <module>\n",
      "    ax = fig.gca(projection='3d')\n",
      "         ^^^^^^^^^^^^^^^^^^^^^^^^\n",
      "TypeError: FigureBase.gca() got an unexpected keyword argument 'projection'\n",
      "Traceback (most recent call last):\n",
      "  File \"/home/asus/S2/calcul paralléle/exam4_hanan.py\", line 47, in <module>\n",
      "    ax = fig.gca(projection='3d')\n",
      "         ^^^^^^^^^^^^^^^^^^^^^^^^\n",
      "TypeError: FigureBase.gca() got an unexpected keyword argument 'projection'\n",
      "--------------------------------------------------------------------------\n",
      "Primary job  terminated normally, but 1 process returned\n",
      "a non-zero exit code. Per user-direction, the job has been aborted.\n",
      "--------------------------------------------------------------------------\n",
      "--------------------------------------------------------------------------\n",
      "mpirun detected that one or more processes exited with non-zero status, thus causing\n",
      "the job to be terminated. The first process to do so was:\n",
      "\n",
      "  Process name: [[32080,1],3]\n",
      "  Exit code:    1\n",
      "--------------------------------------------------------------------------\n"
     ]
    }
   ],
   "source": [
    "!mpirun -n 4 python3 exam4_hanan.py"
   ]
  }
 ],
 "metadata": {
  "kernelspec": {
   "display_name": "mpi_env",
   "language": "python",
   "name": "python3"
  },
  "language_info": {
   "codemirror_mode": {
    "name": "ipython",
    "version": 3
   },
   "file_extension": ".py",
   "mimetype": "text/x-python",
   "name": "python",
   "nbconvert_exporter": "python",
   "pygments_lexer": "ipython3",
   "version": "3.11.7"
  }
 },
 "nbformat": 4,
 "nbformat_minor": 2
}
